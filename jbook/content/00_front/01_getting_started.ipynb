{
 "cells": [
  {
   "cell_type": "markdown",
   "metadata": {},
   "source": [
    "# Preliminaries"
   ]
  },
  {
   "cell_type": "markdown",
   "metadata": {},
   "source": [
    "## Data Acquisition\n",
    "The data are acquired from the [Feedback Prize - Predicting Effective Arguments](https://www.kaggle.com/competitions/feedback-prize-effectiveness/data) webpage on the [Kaggle](wwww.kaggle.com) website. Our overarching aims? Understand, the form, format, and quality of the data, certify that it meets project needs, and illuminate any data quality concerns that require attention prior to a second, more comprehensive, exploratory data analysis (EDA), and downstream modeling efforts. \n",
    "\n",
    "Kaggle's public API will be used to download the data from the site. The installation, and credentialing, and data download processes are described on [Kaggle's github README.md page](https://github.com/Kaggle/kaggle-api#api-credentials). Once you've obtained and downloaded the Kaggle API Token into the appropriate folder for your operating system, we can install the API and download the data to the current working directory as follows."
   ]
  },
  {
   "cell_type": "code",
   "execution_count": null,
   "metadata": {},
   "outputs": [],
   "source": [
    "%%capture\n",
    "!pip install --user kaggle\n",
    "!kaggle competitions download -c feedback-prize-effectiveness"
   ]
  },
  {
   "cell_type": "markdown",
   "metadata": {},
   "source": [
    "You should have a file named 'feedback-prize-effectiveness.zip' in your current working directory. The following code will create our file structure, unpack and store the data into a raw data directory. When it completes, you should have the following file structure. "
   ]
  }
 ],
 "metadata": {
  "kernelspec": {
   "display_name": "Python 3.8.13 ('aes')",
   "language": "python",
   "name": "python3"
  },
  "language_info": {
   "codemirror_mode": {
    "name": "ipython",
    "version": 3
   },
   "file_extension": ".py",
   "mimetype": "text/x-python",
   "name": "python",
   "nbconvert_exporter": "python",
   "pygments_lexer": "ipython3",
   "version": "3.8.13"
  },
  "orig_nbformat": 4,
  "vscode": {
   "interpreter": {
    "hash": "634215c1768fe5e7f4dff3c32019033fc4260ccb6bad5e9329bf88c312891f8c"
   }
  }
 },
 "nbformat": 4,
 "nbformat_minor": 2
}
