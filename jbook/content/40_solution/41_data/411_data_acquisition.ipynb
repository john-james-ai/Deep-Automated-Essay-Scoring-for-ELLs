{
 "cells": [
  {
   "cell_type": "markdown",
   "metadata": {},
   "source": [
    "## Data Prepar\n",
    "Extract-transform-load, state-of-the-art data integration framework from the 1980's, endures aptly encapsulates the acquisition of the data used for this effort. Quite simply, we'll extract the data from the Kaggle website, transform the data into a suitable format, and load the data into a feature store. If you are executing this notebook using Colab, Binder or another cloud service, you should have created your Kaggle user account, generated a Kaggle API Token, and downloaded the token to the designated working directory for your operating system.    "
   ]
  },
  {
   "cell_type": "markdown",
   "metadata": {},
   "source": [
    "## "
   ]
  }
 ],
 "metadata": {
  "kernelspec": {
   "display_name": "Python 3.8.13 ('aes')",
   "language": "python",
   "name": "python3"
  },
  "language_info": {
   "name": "python",
   "version": "3.8.13"
  },
  "orig_nbformat": 4,
  "vscode": {
   "interpreter": {
    "hash": "634215c1768fe5e7f4dff3c32019033fc4260ccb6bad5e9329bf88c312891f8c"
   }
  }
 },
 "nbformat": 4,
 "nbformat_minor": 2
}
